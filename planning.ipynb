{
 "cells": [
  {
   "cell_type": "markdown",
   "id": "45b6ccd1-919e-4ea8-9ae5-5feab8c7af96",
   "metadata": {},
   "source": [
    "# Data Science Project: Planning Stage (Individual)\n",
    "### Olivia Liang\n",
    "\n",
    "## 1. Data Description\n",
    "\n",
    "The dataset comes from a Minecraft research server operated by the UBC Computer Science research group. It is designed to record how players interact with the game over time. Two related files are provided:\n",
    "- \"players.csv\", which records demographic and gameplay characteristics for each unique player\n",
    "- \"session.csv\", which logs each player's individual play sessions\n",
    "\n",
    "The **players** dataset includes seven variables:\n",
    "- \"experience\": categorical, player skill level (Beginner -> Pro)\n",
    "- \"subscribe\": binary, newsletter subscription (TRUE/FALSE)\n",
    "- \"hashedEmail\": unique player ID\n",
    "- \"played_hours\": nukeric, total time played\n",
    "- \"name\": player name (anonymized with only first name)\n",
    "- \"gender\": player's self-identified gender\n",
    "- \"age\": numeric, player age\n",
    "\n",
    "The **sessions** dataset includes:\n",
    "- \"hashedEmail\": player ID linking to \"players\"\n",
    "- \"start_time\": Datetime with a standardized timestamp for when a session began\n",
    "-  \"end_time\": Datetime with a standardized timestamp for when a session ended\n",
    "- \"original_start_time\": Numeric with a raw timestamp in millisecond\n",
    "- \"original_end_time\": Numeric with a raw end timestamp in millisecond\n",
    "\n",
    "Potential issues:\n",
    "- **Time precision**: The played_hours column records total playtime rounded to one decimal place, so exact durations are approximate rather than precise\n",
    "- **Timestamp precision**: some \"original_*\" values are very large and appear identical due to scientific notation, though they might differ slightly \n",
    "- **Age accuracy**: the dataset includes some outliers, low ages (e.g. 9, 11), which may reflect user entry errors or test data. These values can distort summary statistics and should be checked before modelling.\n",
    "- **Redundant time columns**: Both raw and standardized timestamps exists; one pair should be used consistently\n",
    "\n",
    "## 2. Question\n",
    "\n",
    "**Broad question:**\n",
    "What player characteristics and behaviours are most predictive of subscribing to a game-related newsletter, and how do these features differ between various player types?\n",
    "\n",
    "**Specific question:**\n",
    "Can player demographics (`Age`, `gender`), experience level, and total playtime predict whether a player subscribes to the newsletter?\n",
    "\n",
    "**Response variable:** binary variable indicating whether a player subscribed (TRUE) or not (FALSE)\n",
    "\n",
    "**Explanatory variables:** `Age`, `gender`, `experience`, `played_hours`\n",
    "\n",
    "This project is a classification task that aims to predict `subscribe` (TRUE/FALSE) using demographic and behavioural data.  \n",
    "\n",
    "The dataset provides demographic and behavioural information that directly supports this question. Each row in `players.csv` represents one player, including their age, gender, experience level, total hours played, and whether they subscribed. These features can be used to explore which characteristics are most associated with newsletter subscription.\n",
    "\n",
    "To prepare the data for analysis, the following wrangling steps will be done:\n",
    "- Convert `subscribe` into a logical (TRUE/FALSE) variable for binary prediction.  \n",
    "- Convert `experience` and `gender` into categorical factors. \n",
    "\n",
    "## 3. Exploratory Data Analysis and Visualization\n",
    "\n",
    "### 3.1 Load and Inspect Data"
   ]
  },
  {
   "cell_type": "code",
   "execution_count": 2,
   "id": "db3c59cf-3fda-4edb-a8c1-e7837400478f",
   "metadata": {},
   "outputs": [],
   "source": [
    "library(tidyverse)"
   ]
  },
  {
   "cell_type": "code",
   "execution_count": 3,
   "id": "88754536-9a9a-4bbb-baa8-e9ac1cdac747",
   "metadata": {},
   "outputs": [
    {
     "ename": "ERROR",
     "evalue": "Error: 'players.csv' does not exist in current working directory ('/home/jovyan/work/Project-planning-stage-individual-').\n",
     "output_type": "error",
     "traceback": [
      "Error: 'players.csv' does not exist in current working directory ('/home/jovyan/work/Project-planning-stage-individual-').\nTraceback:\n",
      "1. read_csv(\"players.csv\")",
      "2. vroom::vroom(file, delim = \",\", col_names = col_names, col_types = col_types, \n .     col_select = {\n .         {\n .             col_select\n .         }\n .     }, id = id, .name_repair = name_repair, skip = skip, n_max = n_max, \n .     na = na, quote = quote, comment = comment, skip_empty_rows = skip_empty_rows, \n .     trim_ws = trim_ws, escape_double = TRUE, escape_backslash = FALSE, \n .     locale = locale, guess_max = guess_max, show_col_types = show_col_types, \n .     progress = progress, altrep = lazy, num_threads = num_threads)",
      "3. vroom_(file, delim = delim %||% col_types$delim, col_names = col_names, \n .     col_types = col_types, id = id, skip = skip, col_select = col_select, \n .     name_repair = .name_repair, na = na, quote = quote, trim_ws = trim_ws, \n .     escape_double = escape_double, escape_backslash = escape_backslash, \n .     comment = comment, skip_empty_rows = skip_empty_rows, locale = locale, \n .     guess_max = guess_max, n_max = n_max, altrep = vroom_altrep(altrep), \n .     num_threads = num_threads, progress = progress)",
      "4. (function (path, write = FALSE) \n . {\n .     if (is.raw(path)) {\n .         return(rawConnection(path, \"rb\"))\n .     }\n .     if (!is.character(path)) {\n .         return(path)\n .     }\n .     if (is_url(path)) {\n .         if (requireNamespace(\"curl\", quietly = TRUE)) {\n .             con <- curl::curl(path)\n .         }\n .         else {\n .             inform(\"`curl` package not installed, falling back to using `url()`\")\n .             con <- url(path)\n .         }\n .         ext <- tolower(tools::file_ext(path))\n .         return(switch(ext, zip = , bz2 = , xz = {\n .             close(con)\n .             stop(\"Reading from remote `\", ext, \"` compressed files is not supported,\\n\", \n .                 \"  download the files locally first.\", call. = FALSE)\n .         }, gz = gzcon(con), con))\n .     }\n .     path <- enc2utf8(path)\n .     p <- split_path_ext(basename_utf8(path))\n .     if (write) {\n .         path <- normalizePath_utf8(path, mustWork = FALSE)\n .     }\n .     else {\n .         path <- check_path(path)\n .     }\n .     if (is_installed(\"archive\")) {\n .         formats <- archive_formats(p$extension)\n .         extension <- p$extension\n .         while (is.null(formats) && nzchar(extension)) {\n .             extension <- split_path_ext(extension)$extension\n .             formats <- archive_formats(extension)\n .         }\n .         if (!is.null(formats)) {\n .             p$extension <- extension\n .             if (write) {\n .                 if (is.null(formats[[1]])) {\n .                   return(archive::file_write(path, filter = formats[[2]]))\n .                 }\n .                 return(archive::archive_write(path, p$path, format = formats[[1]], \n .                   filter = formats[[2]]))\n .             }\n .             if (is.null(formats[[1]])) {\n .                 return(archive::file_read(path, filter = formats[[2]]))\n .             }\n .             return(archive::archive_read(path, format = formats[[1]], \n .                 filter = formats[[2]]))\n .         }\n .     }\n .     if (!write) {\n .         compression <- detect_compression(path)\n .     }\n .     else {\n .         compression <- NA\n .     }\n .     if (is.na(compression)) {\n .         compression <- tools::file_ext(path)\n .     }\n .     if (write && compression == \"zip\") {\n .         stop(\"Can only read from, not write to, .zip\", call. = FALSE)\n .     }\n .     switch(compression, gz = gzfile(path, \"\"), bz2 = bzfile(path, \n .         \"\"), xz = xzfile(path, \"\"), zip = zipfile(path, \"\"), \n .         if (!has_trailing_newline(path)) {\n .             file(path)\n .         } else {\n .             path\n .         })\n . })(\"players.csv\")",
      "5. check_path(path)",
      "6. stop(\"'\", path, \"' does not exist\", if (!is_absolute_path(path)) {\n .     paste0(\" in current working directory ('\", getwd(), \"')\")\n . }, \".\", call. = FALSE)"
     ]
    }
   ],
   "source": [
    "players <- read_csv(\"players.csv\")\n",
    "sessions <- read_csv(\"sessions.csv\")\n",
    "players\n",
    "sessions"
   ]
  },
  {
   "cell_type": "code",
   "execution_count": null,
   "id": "e041ab9d-3481-4039-aaea-1628a34eec46",
   "metadata": {},
   "outputs": [],
   "source": []
  }
 ],
 "metadata": {
  "kernelspec": {
   "display_name": "R",
   "language": "R",
   "name": "ir"
  },
  "language_info": {
   "codemirror_mode": "r",
   "file_extension": ".r",
   "mimetype": "text/x-r-source",
   "name": "R",
   "pygments_lexer": "r",
   "version": "4.3.3"
  }
 },
 "nbformat": 4,
 "nbformat_minor": 5
}
